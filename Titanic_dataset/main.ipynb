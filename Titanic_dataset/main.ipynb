{
 "cells": [
  {
   "cell_type": "code",
   "execution_count": 249,
   "id": "8ec63a4b",
   "metadata": {},
   "outputs": [],
   "source": [
    "import matplotlib.pyplot as plt\n",
    "import numpy as np\n",
    "import pandas as pd \n",
    "import seaborn as sns\n",
    "from sklearn import neighbors\n",
    "from sklearn import metrics\n",
    "from sklearn.ensemble import RandomForestClassifier\n",
    "from sklearn.linear_model import LogisticRegression\n",
    "from sklearn.metrics import classification_report\n",
    "from sklearn.metrics import confusion_matrix\n",
    "from sklearn.metrics import precision_score, recall_score\n",
    "from sklearn.metrics import accuracy_score\n",
    "from sklearn.model_selection import train_test_split\n",
    "from sklearn.model_selection import cross_val_predict\n",
    "from sklearn.preprocessing import scale\n",
    "from sklearn.tree import DecisionTreeClassifier\n",
    "%matplotlib inline\n",
    "sns.set_style('whitegrid')\n"
   ]
  },
  {
   "cell_type": "markdown",
   "id": "0fabc525",
   "metadata": {},
   "source": [
    "### Data imports"
   ]
  },
  {
   "cell_type": "code",
   "execution_count": 173,
   "id": "17541e4e",
   "metadata": {},
   "outputs": [
    {
     "data": {
      "text/html": [
       "<div>\n",
       "<style scoped>\n",
       "    .dataframe tbody tr th:only-of-type {\n",
       "        vertical-align: middle;\n",
       "    }\n",
       "\n",
       "    .dataframe tbody tr th {\n",
       "        vertical-align: top;\n",
       "    }\n",
       "\n",
       "    .dataframe thead th {\n",
       "        text-align: right;\n",
       "    }\n",
       "</style>\n",
       "<table border=\"1\" class=\"dataframe\">\n",
       "  <thead>\n",
       "    <tr style=\"text-align: right;\">\n",
       "      <th></th>\n",
       "      <th>PassengerId</th>\n",
       "      <th>Survived</th>\n",
       "      <th>Pclass</th>\n",
       "      <th>Name</th>\n",
       "      <th>Sex</th>\n",
       "      <th>Age</th>\n",
       "      <th>SibSp</th>\n",
       "      <th>Parch</th>\n",
       "      <th>Ticket</th>\n",
       "      <th>Fare</th>\n",
       "      <th>Cabin</th>\n",
       "      <th>Embarked</th>\n",
       "    </tr>\n",
       "  </thead>\n",
       "  <tbody>\n",
       "    <tr>\n",
       "      <th>0</th>\n",
       "      <td>1</td>\n",
       "      <td>0</td>\n",
       "      <td>3</td>\n",
       "      <td>Braund, Mr. Owen Harris</td>\n",
       "      <td>male</td>\n",
       "      <td>22.0</td>\n",
       "      <td>1</td>\n",
       "      <td>0</td>\n",
       "      <td>A/5 21171</td>\n",
       "      <td>7.2500</td>\n",
       "      <td>NaN</td>\n",
       "      <td>S</td>\n",
       "    </tr>\n",
       "    <tr>\n",
       "      <th>1</th>\n",
       "      <td>2</td>\n",
       "      <td>1</td>\n",
       "      <td>1</td>\n",
       "      <td>Cumings, Mrs. John Bradley (Florence Briggs Th...</td>\n",
       "      <td>female</td>\n",
       "      <td>38.0</td>\n",
       "      <td>1</td>\n",
       "      <td>0</td>\n",
       "      <td>PC 17599</td>\n",
       "      <td>71.2833</td>\n",
       "      <td>C85</td>\n",
       "      <td>C</td>\n",
       "    </tr>\n",
       "  </tbody>\n",
       "</table>\n",
       "</div>"
      ],
      "text/plain": [
       "   PassengerId  Survived  Pclass  \\\n",
       "0            1         0       3   \n",
       "1            2         1       1   \n",
       "\n",
       "                                                Name     Sex   Age  SibSp  \\\n",
       "0                            Braund, Mr. Owen Harris    male  22.0      1   \n",
       "1  Cumings, Mrs. John Bradley (Florence Briggs Th...  female  38.0      1   \n",
       "\n",
       "   Parch     Ticket     Fare Cabin Embarked  \n",
       "0      0  A/5 21171   7.2500   NaN        S  \n",
       "1      0   PC 17599  71.2833   C85        C  "
      ]
     },
     "execution_count": 173,
     "metadata": {},
     "output_type": "execute_result"
    }
   ],
   "source": [
    "df = pd.read_csv('train.csv')\n",
    "test_data = pd.read_csv('test.csv')\n",
    "df.head(2)\n"
   ]
  },
  {
   "cell_type": "code",
   "execution_count": 174,
   "id": "f0b6e1b8",
   "metadata": {},
   "outputs": [
    {
     "name": "stdout",
     "output_type": "stream",
     "text": [
      "<class 'pandas.core.frame.DataFrame'>\n",
      "RangeIndex: 891 entries, 0 to 890\n",
      "Data columns (total 12 columns):\n",
      " #   Column       Non-Null Count  Dtype  \n",
      "---  ------       --------------  -----  \n",
      " 0   PassengerId  891 non-null    int64  \n",
      " 1   Survived     891 non-null    int64  \n",
      " 2   Pclass       891 non-null    int64  \n",
      " 3   Name         891 non-null    object \n",
      " 4   Sex          891 non-null    object \n",
      " 5   Age          714 non-null    float64\n",
      " 6   SibSp        891 non-null    int64  \n",
      " 7   Parch        891 non-null    int64  \n",
      " 8   Ticket       891 non-null    object \n",
      " 9   Fare         891 non-null    float64\n",
      " 10  Cabin        204 non-null    object \n",
      " 11  Embarked     889 non-null    object \n",
      "dtypes: float64(2), int64(5), object(5)\n",
      "memory usage: 83.7+ KB\n"
     ]
    }
   ],
   "source": [
    "df.info()"
   ]
  },
  {
   "cell_type": "markdown",
   "id": "bc2c9822",
   "metadata": {},
   "source": [
    "#### Feature analysis\n",
    "The age is missing a significant amount of values but we want to use it in the model, we will use Sibsp to estimate the age.\\\n",
    "\n",
    "Cabin is missing too many values to be useful,\\\n",
    "Name is a label atrribute. making these two columns expendable.\n"
   ]
  },
  {
   "cell_type": "code",
   "execution_count": 175,
   "id": "862399e7",
   "metadata": {},
   "outputs": [
    {
     "name": "stdout",
     "output_type": "stream",
     "text": [
      "<class 'pandas.core.frame.DataFrame'>\n",
      "RangeIndex: 891 entries, 0 to 890\n",
      "Data columns (total 10 columns):\n",
      " #   Column       Non-Null Count  Dtype  \n",
      "---  ------       --------------  -----  \n",
      " 0   PassengerId  891 non-null    int64  \n",
      " 1   Survived     891 non-null    int64  \n",
      " 2   Pclass       891 non-null    int64  \n",
      " 3   Sex          891 non-null    object \n",
      " 4   Age          714 non-null    float64\n",
      " 5   SibSp        891 non-null    int64  \n",
      " 6   Parch        891 non-null    int64  \n",
      " 7   Ticket       891 non-null    object \n",
      " 8   Fare         891 non-null    float64\n",
      " 9   Embarked     889 non-null    object \n",
      "dtypes: float64(2), int64(5), object(3)\n",
      "memory usage: 69.7+ KB\n"
     ]
    }
   ],
   "source": [
    "df = df.drop(['Cabin','Name'], axis =1)\n",
    "df.info()"
   ]
  },
  {
   "cell_type": "code",
   "execution_count": null,
   "id": "817f2f57",
   "metadata": {},
   "outputs": [],
   "source": []
  },
  {
   "cell_type": "markdown",
   "id": "ae18cba2",
   "metadata": {},
   "source": [
    "### A significant amount of Age entries are missing. However age could be useful as children and the elderly would be priortized we will be using the PSibSp categorical feature to estimate missing age entries"
   ]
  },
  {
   "cell_type": "code",
   "execution_count": 176,
   "id": "abe7be4a",
   "metadata": {},
   "outputs": [
    {
     "data": {
      "text/plain": [
       "<AxesSubplot:xlabel='SibSp', ylabel='Age'>"
      ]
     },
     "execution_count": 176,
     "metadata": {},
     "output_type": "execute_result"
    },
    {
     "data": {
      "image/png": "[encoded data removed]",
      "text/plain": [
       "<Figure size 432x288 with 1 Axes>"
      ]
     },
     "metadata": {},
     "output_type": "display_data"
    }
   ],
   "source": [
    "sns.boxplot(x='SibSp', y ='Age',data=df,palette='hls')"
   ]
  },
  {
   "cell_type": "code",
   "execution_count": 177,
   "id": "a38435cd",
   "metadata": {},
   "outputs": [
    {
     "data": {
      "text/html": [
       "<div>\n",
       "<style scoped>\n",
       "    .dataframe tbody tr th:only-of-type {\n",
       "        vertical-align: middle;\n",
       "    }\n",
       "\n",
       "    .dataframe tbody tr th {\n",
       "        vertical-align: top;\n",
       "    }\n",
       "\n",
       "    .dataframe thead th {\n",
       "        text-align: right;\n",
       "    }\n",
       "</style>\n",
       "<table border=\"1\" class=\"dataframe\">\n",
       "  <thead>\n",
       "    <tr style=\"text-align: right;\">\n",
       "      <th></th>\n",
       "      <th>PassengerId</th>\n",
       "      <th>Survived</th>\n",
       "      <th>Pclass</th>\n",
       "      <th>Age</th>\n",
       "      <th>Parch</th>\n",
       "      <th>Fare</th>\n",
       "    </tr>\n",
       "    <tr>\n",
       "      <th>SibSp</th>\n",
       "      <th></th>\n",
       "      <th></th>\n",
       "      <th></th>\n",
       "      <th></th>\n",
       "      <th></th>\n",
       "      <th></th>\n",
       "    </tr>\n",
       "  </thead>\n",
       "  <tbody>\n",
       "    <tr>\n",
       "      <th>0</th>\n",
       "      <td>455.370066</td>\n",
       "      <td>0.345395</td>\n",
       "      <td>2.351974</td>\n",
       "      <td>31.397558</td>\n",
       "      <td>0.185855</td>\n",
       "      <td>25.692028</td>\n",
       "    </tr>\n",
       "    <tr>\n",
       "      <th>1</th>\n",
       "      <td>439.727273</td>\n",
       "      <td>0.535885</td>\n",
       "      <td>2.057416</td>\n",
       "      <td>30.089727</td>\n",
       "      <td>0.655502</td>\n",
       "      <td>44.147370</td>\n",
       "    </tr>\n",
       "    <tr>\n",
       "      <th>2</th>\n",
       "      <td>412.428571</td>\n",
       "      <td>0.464286</td>\n",
       "      <td>2.357143</td>\n",
       "      <td>22.620000</td>\n",
       "      <td>0.642857</td>\n",
       "      <td>51.753718</td>\n",
       "    </tr>\n",
       "    <tr>\n",
       "      <th>3</th>\n",
       "      <td>321.562500</td>\n",
       "      <td>0.250000</td>\n",
       "      <td>2.562500</td>\n",
       "      <td>13.916667</td>\n",
       "      <td>1.312500</td>\n",
       "      <td>68.908862</td>\n",
       "    </tr>\n",
       "    <tr>\n",
       "      <th>4</th>\n",
       "      <td>381.611111</td>\n",
       "      <td>0.166667</td>\n",
       "      <td>3.000000</td>\n",
       "      <td>7.055556</td>\n",
       "      <td>1.500000</td>\n",
       "      <td>31.855556</td>\n",
       "    </tr>\n",
       "    <tr>\n",
       "      <th>5</th>\n",
       "      <td>336.800000</td>\n",
       "      <td>0.000000</td>\n",
       "      <td>3.000000</td>\n",
       "      <td>10.200000</td>\n",
       "      <td>2.000000</td>\n",
       "      <td>46.900000</td>\n",
       "    </tr>\n",
       "    <tr>\n",
       "      <th>8</th>\n",
       "      <td>481.714286</td>\n",
       "      <td>0.000000</td>\n",
       "      <td>3.000000</td>\n",
       "      <td>NaN</td>\n",
       "      <td>2.000000</td>\n",
       "      <td>69.550000</td>\n",
       "    </tr>\n",
       "  </tbody>\n",
       "</table>\n",
       "</div>"
      ],
      "text/plain": [
       "       PassengerId  Survived    Pclass        Age     Parch       Fare\n",
       "SibSp                                                                 \n",
       "0       455.370066  0.345395  2.351974  31.397558  0.185855  25.692028\n",
       "1       439.727273  0.535885  2.057416  30.089727  0.655502  44.147370\n",
       "2       412.428571  0.464286  2.357143  22.620000  0.642857  51.753718\n",
       "3       321.562500  0.250000  2.562500  13.916667  1.312500  68.908862\n",
       "4       381.611111  0.166667  3.000000   7.055556  1.500000  31.855556\n",
       "5       336.800000  0.000000  3.000000  10.200000  2.000000  46.900000\n",
       "8       481.714286  0.000000  3.000000        NaN  2.000000  69.550000"
      ]
     },
     "execution_count": 177,
     "metadata": {},
     "output_type": "execute_result"
    }
   ],
   "source": [
    "Sibsp_groups = df.groupby(df['SibSp'])\n",
    "Sibsp_groups.mean()"
   ]
  },
  {
   "cell_type": "code",
   "execution_count": 178,
   "id": "49273b6c",
   "metadata": {},
   "outputs": [
    {
     "data": {
      "text/plain": [
       "29.69911764705882"
      ]
     },
     "execution_count": 178,
     "metadata": {},
     "output_type": "execute_result"
    }
   ],
   "source": [
    "df.Age.mean()"
   ]
  },
  {
   "cell_type": "code",
   "execution_count": 179,
   "id": "e5e41432",
   "metadata": {},
   "outputs": [],
   "source": [
    "def age_approx_Sibsp(cols):\n",
    "    '''\n",
    "    Approximates the age of a passenger based on the number \n",
    "    of siblings/spouse onboard if passenger's age is not provided\n",
    "\n",
    "    -----------------------------\n",
    "    Parameters (columns):\n",
    "    Age and sibsp columns\n",
    "\n",
    "    ----------------------------\n",
    "    Returns (int):\n",
    "    Age of passengers\n",
    "    '''\n",
    "    Age =cols[0]\n",
    "    sibsp=cols[1]\n",
    "    \n",
    "    if pd.isnull(Age):\n",
    "        if sibsp == 0:\n",
    "            return 31\n",
    "        elif sibsp ==1:\n",
    "            return 30\n",
    "        elif sibsp ==2:\n",
    "            return 23\n",
    "        elif sibsp ==3:\n",
    "            return 13\n",
    "        else:\n",
    "            return 29\n",
    "        \n",
    "    else:\n",
    "        return Age\n",
    "            "
   ]
  },
  {
   "cell_type": "code",
   "execution_count": 180,
   "id": "c86194c0",
   "metadata": {},
   "outputs": [],
   "source": [
    "df['Age'] = df[['Age','SibSp']].apply(age_approx_Sibsp,axis = 1)"
   ]
  },
  {
   "cell_type": "code",
   "execution_count": 181,
   "id": "45c25496",
   "metadata": {},
   "outputs": [],
   "source": [
    "df = df.dropna()\n",
    "#df.info()"
   ]
  },
  {
   "cell_type": "markdown",
   "id": "85d38afc",
   "metadata": {},
   "source": [
    "### Converting gender to a binary feature"
   ]
  },
  {
   "cell_type": "code",
   "execution_count": 182,
   "id": "b63c585f",
   "metadata": {},
   "outputs": [
    {
     "data": {
      "text/plain": [
       "array([1, 0, 0, 0, 1])"
      ]
     },
     "execution_count": 182,
     "metadata": {},
     "output_type": "execute_result"
    }
   ],
   "source": [
    "\n",
    "from sklearn.preprocessing import LabelEncoder\n",
    "label_encoder = LabelEncoder()\n",
    "gender_cat = df['Sex']\n",
    "gender_encoded = label_encoder.fit_transform(gender_cat)\n",
    "gender_encoded[0:5]\n",
    "# 0 - female, 1 - male"
   ]
  },
  {
   "cell_type": "code",
   "execution_count": 183,
   "id": "31e82d84",
   "metadata": {},
   "outputs": [
    {
     "data": {
      "text/plain": [
       "array([1, 0, 1, 1, 0])"
      ]
     },
     "execution_count": 183,
     "metadata": {},
     "output_type": "execute_result"
    }
   ],
   "source": [
    "gender_cat_y = test_data['Sex']\n",
    "gender_encoded_y = label_encoder.fit_transform(gender_cat_y)\n",
    "gender_encoded_y[0:5]"
   ]
  },
  {
   "cell_type": "code",
   "execution_count": 184,
   "id": "1602a2f5",
   "metadata": {},
   "outputs": [],
   "source": [
    "gender_Df = pd.DataFrame(gender_encoded,columns=['male_gender'])"
   ]
  },
  {
   "cell_type": "markdown",
   "id": "89cfd28d",
   "metadata": {},
   "source": [
    "### Converting embarked to a binary feature"
   ]
  },
  {
   "cell_type": "code",
   "execution_count": 185,
   "id": "530c9f33",
   "metadata": {},
   "outputs": [
    {
     "data": {
      "text/plain": [
       "array([2, 0, 2, 2, 2, 1, 2, 2, 2, 0])"
      ]
     },
     "execution_count": 185,
     "metadata": {},
     "output_type": "execute_result"
    }
   ],
   "source": [
    "#\n",
    "embarked_cat = df['Embarked']\n",
    "embarked_encoded = label_encoder.fit_transform(embarked_cat)\n",
    "embarked_encoded[0:10]"
   ]
  },
  {
   "cell_type": "code",
   "execution_count": 186,
   "id": "7308be21",
   "metadata": {},
   "outputs": [
    {
     "data": {
      "text/html": [
       "<div>\n",
       "<style scoped>\n",
       "    .dataframe tbody tr th:only-of-type {\n",
       "        vertical-align: middle;\n",
       "    }\n",
       "\n",
       "    .dataframe tbody tr th {\n",
       "        vertical-align: top;\n",
       "    }\n",
       "\n",
       "    .dataframe thead th {\n",
       "        text-align: right;\n",
       "    }\n",
       "</style>\n",
       "<table border=\"1\" class=\"dataframe\">\n",
       "  <thead>\n",
       "    <tr style=\"text-align: right;\">\n",
       "      <th></th>\n",
       "      <th>C</th>\n",
       "      <th>Q</th>\n",
       "      <th>S</th>\n",
       "    </tr>\n",
       "  </thead>\n",
       "  <tbody>\n",
       "    <tr>\n",
       "      <th>0</th>\n",
       "      <td>0.0</td>\n",
       "      <td>0.0</td>\n",
       "      <td>1.0</td>\n",
       "    </tr>\n",
       "    <tr>\n",
       "      <th>1</th>\n",
       "      <td>1.0</td>\n",
       "      <td>0.0</td>\n",
       "      <td>0.0</td>\n",
       "    </tr>\n",
       "    <tr>\n",
       "      <th>2</th>\n",
       "      <td>0.0</td>\n",
       "      <td>0.0</td>\n",
       "      <td>1.0</td>\n",
       "    </tr>\n",
       "    <tr>\n",
       "      <th>3</th>\n",
       "      <td>0.0</td>\n",
       "      <td>0.0</td>\n",
       "      <td>1.0</td>\n",
       "    </tr>\n",
       "    <tr>\n",
       "      <th>4</th>\n",
       "      <td>0.0</td>\n",
       "      <td>0.0</td>\n",
       "      <td>1.0</td>\n",
       "    </tr>\n",
       "    <tr>\n",
       "      <th>...</th>\n",
       "      <td>...</td>\n",
       "      <td>...</td>\n",
       "      <td>...</td>\n",
       "    </tr>\n",
       "    <tr>\n",
       "      <th>884</th>\n",
       "      <td>0.0</td>\n",
       "      <td>0.0</td>\n",
       "      <td>1.0</td>\n",
       "    </tr>\n",
       "    <tr>\n",
       "      <th>885</th>\n",
       "      <td>0.0</td>\n",
       "      <td>0.0</td>\n",
       "      <td>1.0</td>\n",
       "    </tr>\n",
       "    <tr>\n",
       "      <th>886</th>\n",
       "      <td>0.0</td>\n",
       "      <td>0.0</td>\n",
       "      <td>1.0</td>\n",
       "    </tr>\n",
       "    <tr>\n",
       "      <th>887</th>\n",
       "      <td>1.0</td>\n",
       "      <td>0.0</td>\n",
       "      <td>0.0</td>\n",
       "    </tr>\n",
       "    <tr>\n",
       "      <th>888</th>\n",
       "      <td>0.0</td>\n",
       "      <td>1.0</td>\n",
       "      <td>0.0</td>\n",
       "    </tr>\n",
       "  </tbody>\n",
       "</table>\n",
       "<p>889 rows × 3 columns</p>\n",
       "</div>"
      ],
      "text/plain": [
       "       C    Q    S\n",
       "0    0.0  0.0  1.0\n",
       "1    1.0  0.0  0.0\n",
       "2    0.0  0.0  1.0\n",
       "3    0.0  0.0  1.0\n",
       "4    0.0  0.0  1.0\n",
       "..   ...  ...  ...\n",
       "884  0.0  0.0  1.0\n",
       "885  0.0  0.0  1.0\n",
       "886  0.0  0.0  1.0\n",
       "887  1.0  0.0  0.0\n",
       "888  0.0  1.0  0.0\n",
       "\n",
       "[889 rows x 3 columns]"
      ]
     },
     "execution_count": 186,
     "metadata": {},
     "output_type": "execute_result"
    }
   ],
   "source": [
    "from sklearn.preprocessing import OneHotEncoder\n",
    "binary_encoder = OneHotEncoder(categories='auto')\n",
    "embarked_binary = binary_encoder.fit_transform(embarked_encoded.reshape(-1,1))\n",
    "embarked_binary = embarked_binary.toarray()\n",
    "locations = ['C','Q','S']\n",
    "embarked_binary_DF = pd.DataFrame(embarked_binary, columns = locations)\n",
    "embarked_binary_DF"
   ]
  },
  {
   "cell_type": "code",
   "execution_count": 187,
   "id": "0381a2c1",
   "metadata": {},
   "outputs": [
    {
     "name": "stdout",
     "output_type": "stream",
     "text": [
      "<class 'pandas.core.frame.DataFrame'>\n",
      "Int64Index: 891 entries, 0 to 890\n",
      "Data columns (total 14 columns):\n",
      " #   Column       Non-Null Count  Dtype  \n",
      "---  ------       --------------  -----  \n",
      " 0   PassengerId  889 non-null    float64\n",
      " 1   Survived     889 non-null    float64\n",
      " 2   Pclass       889 non-null    float64\n",
      " 3   Sex          889 non-null    object \n",
      " 4   Age          889 non-null    float64\n",
      " 5   SibSp        889 non-null    float64\n",
      " 6   Parch        889 non-null    float64\n",
      " 7   Ticket       889 non-null    object \n",
      " 8   Fare         889 non-null    float64\n",
      " 9   Embarked     889 non-null    object \n",
      " 10  male_gender  889 non-null    float64\n",
      " 11  C            889 non-null    float64\n",
      " 12  Q            889 non-null    float64\n",
      " 13  S            889 non-null    float64\n",
      "dtypes: float64(11), object(3)\n",
      "memory usage: 104.4+ KB\n"
     ]
    }
   ],
   "source": [
    "# Intergrate the binary features with the original data\n",
    "titanic = pd.concat([df,gender_Df,embarked_binary_DF],axis=1,verify_integrity=True)\n",
    "titanic.info()"
   ]
  },
  {
   "cell_type": "markdown",
   "id": "9ce039ab",
   "metadata": {},
   "source": [
    "### Feature Design"
   ]
  },
  {
   "cell_type": "code",
   "execution_count": 188,
   "id": "6108c884",
   "metadata": {
    "scrolled": true
   },
   "outputs": [
    {
     "data": {
      "text/plain": [
       "<AxesSubplot:>"
      ]
     },
     "execution_count": 188,
     "metadata": {},
     "output_type": "execute_result"
    },
    {
     "data": {
      "image/png": "[encoded data removed]",
      "text/plain": [
       "<Figure size 432x288 with 2 Axes>"
      ]
     },
     "metadata": {},
     "output_type": "display_data"
    }
   ],
   "source": [
    "#Linear regression assumes predictors are independent of each so we want to drop all dependent features\n",
    "\n",
    "sns.heatmap(titanic.corr(),cmap=sns.color_palette('Spectral',as_cmap=True))\n",
    "# Pclass and Fare have a high correlation"
   ]
  },
  {
   "cell_type": "code",
   "execution_count": 189,
   "id": "a9efe620",
   "metadata": {},
   "outputs": [
    {
     "data": {
      "text/html": [
       "<div>\n",
       "<style scoped>\n",
       "    .dataframe tbody tr th:only-of-type {\n",
       "        vertical-align: middle;\n",
       "    }\n",
       "\n",
       "    .dataframe tbody tr th {\n",
       "        vertical-align: top;\n",
       "    }\n",
       "\n",
       "    .dataframe thead th {\n",
       "        text-align: right;\n",
       "    }\n",
       "</style>\n",
       "<table border=\"1\" class=\"dataframe\">\n",
       "  <thead>\n",
       "    <tr style=\"text-align: right;\">\n",
       "      <th></th>\n",
       "      <th>PassengerId</th>\n",
       "      <th>Survived</th>\n",
       "      <th>Age</th>\n",
       "      <th>SibSp</th>\n",
       "      <th>Parch</th>\n",
       "      <th>Fare</th>\n",
       "      <th>male_gender</th>\n",
       "      <th>C</th>\n",
       "      <th>Q</th>\n",
       "      <th>S</th>\n",
       "    </tr>\n",
       "  </thead>\n",
       "  <tbody>\n",
       "    <tr>\n",
       "      <th>0</th>\n",
       "      <td>1.0</td>\n",
       "      <td>0.0</td>\n",
       "      <td>22.0</td>\n",
       "      <td>1.0</td>\n",
       "      <td>0.0</td>\n",
       "      <td>7.2500</td>\n",
       "      <td>1.0</td>\n",
       "      <td>0.0</td>\n",
       "      <td>0.0</td>\n",
       "      <td>1.0</td>\n",
       "    </tr>\n",
       "    <tr>\n",
       "      <th>1</th>\n",
       "      <td>2.0</td>\n",
       "      <td>1.0</td>\n",
       "      <td>38.0</td>\n",
       "      <td>1.0</td>\n",
       "      <td>0.0</td>\n",
       "      <td>71.2833</td>\n",
       "      <td>0.0</td>\n",
       "      <td>1.0</td>\n",
       "      <td>0.0</td>\n",
       "      <td>0.0</td>\n",
       "    </tr>\n",
       "    <tr>\n",
       "      <th>2</th>\n",
       "      <td>3.0</td>\n",
       "      <td>1.0</td>\n",
       "      <td>26.0</td>\n",
       "      <td>0.0</td>\n",
       "      <td>0.0</td>\n",
       "      <td>7.9250</td>\n",
       "      <td>0.0</td>\n",
       "      <td>0.0</td>\n",
       "      <td>0.0</td>\n",
       "      <td>1.0</td>\n",
       "    </tr>\n",
       "    <tr>\n",
       "      <th>3</th>\n",
       "      <td>4.0</td>\n",
       "      <td>1.0</td>\n",
       "      <td>35.0</td>\n",
       "      <td>1.0</td>\n",
       "      <td>0.0</td>\n",
       "      <td>53.1000</td>\n",
       "      <td>0.0</td>\n",
       "      <td>0.0</td>\n",
       "      <td>0.0</td>\n",
       "      <td>1.0</td>\n",
       "    </tr>\n",
       "    <tr>\n",
       "      <th>4</th>\n",
       "      <td>5.0</td>\n",
       "      <td>0.0</td>\n",
       "      <td>35.0</td>\n",
       "      <td>0.0</td>\n",
       "      <td>0.0</td>\n",
       "      <td>8.0500</td>\n",
       "      <td>1.0</td>\n",
       "      <td>0.0</td>\n",
       "      <td>0.0</td>\n",
       "      <td>1.0</td>\n",
       "    </tr>\n",
       "  </tbody>\n",
       "</table>\n",
       "</div>"
      ],
      "text/plain": [
       "   PassengerId  Survived   Age  SibSp  Parch     Fare  male_gender    C    Q  \\\n",
       "0          1.0       0.0  22.0    1.0    0.0   7.2500          1.0  0.0  0.0   \n",
       "1          2.0       1.0  38.0    1.0    0.0  71.2833          0.0  1.0  0.0   \n",
       "2          3.0       1.0  26.0    0.0    0.0   7.9250          0.0  0.0  0.0   \n",
       "3          4.0       1.0  35.0    1.0    0.0  53.1000          0.0  0.0  0.0   \n",
       "4          5.0       0.0  35.0    0.0    0.0   8.0500          1.0  0.0  0.0   \n",
       "\n",
       "     S  \n",
       "0  1.0  \n",
       "1  0.0  \n",
       "2  1.0  \n",
       "3  1.0  \n",
       "4  1.0  "
      ]
     },
     "execution_count": 189,
     "metadata": {},
     "output_type": "execute_result"
    }
   ],
   "source": [
    "# drop all label features of the dataset and the features that have been converted to binary form\n",
    "titanic = titanic.drop(['Pclass','Sex','Embarked','Ticket'],axis=1)\n",
    "titanic.head(5)"
   ]
  },
  {
   "cell_type": "code",
   "execution_count": 190,
   "id": "00d78a8f",
   "metadata": {},
   "outputs": [
    {
     "data": {
      "text/plain": [
       "PassengerId    2\n",
       "Survived       2\n",
       "Age            2\n",
       "SibSp          2\n",
       "Parch          2\n",
       "Fare           2\n",
       "male_gender    2\n",
       "C              2\n",
       "Q              2\n",
       "S              2\n",
       "dtype: int64"
      ]
     },
     "execution_count": 190,
     "metadata": {},
     "output_type": "execute_result"
    }
   ],
   "source": [
    "titanic.isnull().sum()"
   ]
  },
  {
   "cell_type": "code",
   "execution_count": 191,
   "id": "1880fa9c",
   "metadata": {},
   "outputs": [
    {
     "name": "stdout",
     "output_type": "stream",
     "text": [
      "<class 'pandas.core.frame.DataFrame'>\n",
      "Int64Index: 887 entries, 0 to 888\n",
      "Data columns (total 10 columns):\n",
      " #   Column       Non-Null Count  Dtype  \n",
      "---  ------       --------------  -----  \n",
      " 0   PassengerId  887 non-null    float64\n",
      " 1   Survived     887 non-null    float64\n",
      " 2   Age          887 non-null    float64\n",
      " 3   SibSp        887 non-null    float64\n",
      " 4   Parch        887 non-null    float64\n",
      " 5   Fare         887 non-null    float64\n",
      " 6   male_gender  887 non-null    float64\n",
      " 7   C            887 non-null    float64\n",
      " 8   Q            887 non-null    float64\n",
      " 9   S            887 non-null    float64\n",
      "dtypes: float64(10)\n",
      "memory usage: 76.2 KB\n"
     ]
    }
   ],
   "source": [
    "titanic = titanic.dropna()\n",
    "titanic.info()"
   ]
  },
  {
   "cell_type": "code",
   "execution_count": 192,
   "id": "2f70f7fa",
   "metadata": {},
   "outputs": [],
   "source": [
    "features = ['PassengerId','Fare','SibSp','Parch','Age','male_gender','C','Q','S']"
   ]
  },
  {
   "cell_type": "code",
   "execution_count": 193,
   "id": "ff4d2bac",
   "metadata": {},
   "outputs": [],
   "source": [
    "X_train,X_test, y_train,y_test = train_test_split(titanic[features],titanic['Survived'], \n",
    "                                                  test_size = 0.2)\n"
   ]
  },
  {
   "cell_type": "code",
   "execution_count": 194,
   "id": "5b96aa7f",
   "metadata": {},
   "outputs": [],
   "source": [
    "#scale training data\n",
    "X_train,X_test = scale(X_train),scale(X_test)"
   ]
  },
  {
   "cell_type": "markdown",
   "id": "24f8ead7",
   "metadata": {
    "scrolled": true
   },
   "source": [
    "### Conversion of multiclass and variable featurs of test.csv to binary classifies"
   ]
  },
  {
   "cell_type": "code",
   "execution_count": 195,
   "id": "dae535c6",
   "metadata": {},
   "outputs": [],
   "source": [
    "test_data['Age'] = test_data[['Age','Parch']].apply(age_approx_Sibsp,axis = 1)"
   ]
  },
  {
   "cell_type": "code",
   "execution_count": 196,
   "id": "68442725",
   "metadata": {},
   "outputs": [
    {
     "name": "stdout",
     "output_type": "stream",
     "text": [
      "[1 2 1 2 2 2 1 2 0 2]\n"
     ]
    },
    {
     "data": {
      "text/html": [
       "<div>\n",
       "<style scoped>\n",
       "    .dataframe tbody tr th:only-of-type {\n",
       "        vertical-align: middle;\n",
       "    }\n",
       "\n",
       "    .dataframe tbody tr th {\n",
       "        vertical-align: top;\n",
       "    }\n",
       "\n",
       "    .dataframe thead th {\n",
       "        text-align: right;\n",
       "    }\n",
       "</style>\n",
       "<table border=\"1\" class=\"dataframe\">\n",
       "  <thead>\n",
       "    <tr style=\"text-align: right;\">\n",
       "      <th></th>\n",
       "      <th>C</th>\n",
       "      <th>Q</th>\n",
       "      <th>S</th>\n",
       "    </tr>\n",
       "  </thead>\n",
       "  <tbody>\n",
       "    <tr>\n",
       "      <th>0</th>\n",
       "      <td>0.0</td>\n",
       "      <td>1.0</td>\n",
       "      <td>0.0</td>\n",
       "    </tr>\n",
       "    <tr>\n",
       "      <th>1</th>\n",
       "      <td>0.0</td>\n",
       "      <td>0.0</td>\n",
       "      <td>1.0</td>\n",
       "    </tr>\n",
       "    <tr>\n",
       "      <th>2</th>\n",
       "      <td>0.0</td>\n",
       "      <td>1.0</td>\n",
       "      <td>0.0</td>\n",
       "    </tr>\n",
       "    <tr>\n",
       "      <th>3</th>\n",
       "      <td>0.0</td>\n",
       "      <td>0.0</td>\n",
       "      <td>1.0</td>\n",
       "    </tr>\n",
       "    <tr>\n",
       "      <th>4</th>\n",
       "      <td>0.0</td>\n",
       "      <td>0.0</td>\n",
       "      <td>1.0</td>\n",
       "    </tr>\n",
       "    <tr>\n",
       "      <th>...</th>\n",
       "      <td>...</td>\n",
       "      <td>...</td>\n",
       "      <td>...</td>\n",
       "    </tr>\n",
       "    <tr>\n",
       "      <th>413</th>\n",
       "      <td>0.0</td>\n",
       "      <td>0.0</td>\n",
       "      <td>1.0</td>\n",
       "    </tr>\n",
       "    <tr>\n",
       "      <th>414</th>\n",
       "      <td>1.0</td>\n",
       "      <td>0.0</td>\n",
       "      <td>0.0</td>\n",
       "    </tr>\n",
       "    <tr>\n",
       "      <th>415</th>\n",
       "      <td>0.0</td>\n",
       "      <td>0.0</td>\n",
       "      <td>1.0</td>\n",
       "    </tr>\n",
       "    <tr>\n",
       "      <th>416</th>\n",
       "      <td>0.0</td>\n",
       "      <td>0.0</td>\n",
       "      <td>1.0</td>\n",
       "    </tr>\n",
       "    <tr>\n",
       "      <th>417</th>\n",
       "      <td>1.0</td>\n",
       "      <td>0.0</td>\n",
       "      <td>0.0</td>\n",
       "    </tr>\n",
       "  </tbody>\n",
       "</table>\n",
       "<p>418 rows × 3 columns</p>\n",
       "</div>"
      ],
      "text/plain": [
       "       C    Q    S\n",
       "0    0.0  1.0  0.0\n",
       "1    0.0  0.0  1.0\n",
       "2    0.0  1.0  0.0\n",
       "3    0.0  0.0  1.0\n",
       "4    0.0  0.0  1.0\n",
       "..   ...  ...  ...\n",
       "413  0.0  0.0  1.0\n",
       "414  1.0  0.0  0.0\n",
       "415  0.0  0.0  1.0\n",
       "416  0.0  0.0  1.0\n",
       "417  1.0  0.0  0.0\n",
       "\n",
       "[418 rows x 3 columns]"
      ]
     },
     "execution_count": 196,
     "metadata": {},
     "output_type": "execute_result"
    }
   ],
   "source": [
    "gender_Df_y = pd.DataFrame(gender_encoded_y,columns=['male_gender'])\n",
    "\n",
    "\n",
    "embarked_cat_y = test_data['Embarked']\n",
    "embarked_encoded_y = label_encoder.fit_transform(embarked_cat_y)\n",
    "print(embarked_encoded_y[0:10])\n",
    "\n",
    "\n",
    "embarked_binary_y = binary_encoder.fit_transform(embarked_encoded_y.reshape(-1,1))\n",
    "embarked_binary_y = embarked_binary_y.toarray()\n",
    "locations = ['C','Q','S']\n",
    "embarked_binary_DF_y = pd.DataFrame(embarked_binary_y, columns = locations)\n",
    "embarked_binary_DF_y"
   ]
  },
  {
   "cell_type": "code",
   "execution_count": 197,
   "id": "72fb470b",
   "metadata": {},
   "outputs": [
    {
     "name": "stdout",
     "output_type": "stream",
     "text": [
      "<class 'pandas.core.frame.DataFrame'>\n",
      "RangeIndex: 418 entries, 0 to 417\n",
      "Data columns (total 9 columns):\n",
      " #   Column       Non-Null Count  Dtype  \n",
      "---  ------       --------------  -----  \n",
      " 0   PassengerId  418 non-null    int64  \n",
      " 1   Age          418 non-null    float64\n",
      " 2   SibSp        418 non-null    int64  \n",
      " 3   Parch        418 non-null    int64  \n",
      " 4   Fare         417 non-null    float64\n",
      " 5   male_gender  418 non-null    int32  \n",
      " 6   C            418 non-null    float64\n",
      " 7   Q            418 non-null    float64\n",
      " 8   S            418 non-null    float64\n",
      "dtypes: float64(5), int32(1), int64(3)\n",
      "memory usage: 27.9 KB\n"
     ]
    }
   ],
   "source": [
    "titanic_test = pd.concat([test_data,gender_Df_y,embarked_binary_DF_y],axis=1,verify_integrity=True)\n",
    "\n",
    "\n",
    "titanic_test = titanic_test.drop(['Name','Pclass','Sex','Embarked','Ticket','Cabin'],axis=1)\n",
    "titanic_test.info()"
   ]
  },
  {
   "cell_type": "code",
   "execution_count": 198,
   "id": "eb665b1b",
   "metadata": {},
   "outputs": [],
   "source": [
    "titanic_test = titanic_test.dropna()\n",
    "#titanic_test.info()"
   ]
  },
  {
   "cell_type": "code",
   "execution_count": 199,
   "id": "17cba03e",
   "metadata": {
    "scrolled": true
   },
   "outputs": [],
   "source": [
    "#titanic_test.isnull().sum()"
   ]
  },
  {
   "cell_type": "markdown",
   "id": "797bd933",
   "metadata": {},
   "source": [
    "## Model implementation"
   ]
  },
  {
   "cell_type": "markdown",
   "id": "187fd1b2",
   "metadata": {},
   "source": [
    "### LOGISTIC_REGRESSION"
   ]
  },
  {
   "cell_type": "code",
   "execution_count": 200,
   "id": "644644fb",
   "metadata": {},
   "outputs": [],
   "source": [
    "\n",
    "#Logistic Regressor Model\n",
    "LogReg = LogisticRegression(solver='liblinear')\n",
    "LogReg.fit(X_train,y_train)\n",
    "\n",
    "logreg_train =LogReg.predict(X_train)\n",
    "logreg_test = LogReg.predict(X_test)"
   ]
  },
  {
   "cell_type": "code",
   "execution_count": 201,
   "id": "4aeefe2a",
   "metadata": {},
   "outputs": [
    {
     "name": "stdout",
     "output_type": "stream",
     "text": [
      "Classification Report: LOGISTIC REGRESSION\n",
      "Training Score\n",
      "              precision    recall  f1-score   support\n",
      "\n",
      "         0.0       0.66      0.95      0.78       437\n",
      "         1.0       0.72      0.22      0.33       272\n",
      "\n",
      "    accuracy                           0.67       709\n",
      "   macro avg       0.69      0.58      0.56       709\n",
      "weighted avg       0.68      0.67      0.61       709\n",
      "\n",
      "Testing Score\n",
      "              precision    recall  f1-score   support\n",
      "\n",
      "         0.0       0.72      0.98      0.83       111\n",
      "         1.0       0.92      0.36      0.52        67\n",
      "\n",
      "    accuracy                           0.75       178\n",
      "   macro avg       0.82      0.67      0.67       178\n",
      "weighted avg       0.79      0.75      0.71       178\n",
      "\n"
     ]
    }
   ],
   "source": [
    "print('Classification Report: LOGISTIC REGRESSION')\n",
    "print('Training Score')\n",
    "print(classification_report(y_train,logreg_train))\n",
    "print('Testing Score')\n",
    "print(classification_report(y_test,logreg_test))"
   ]
  },
  {
   "cell_type": "code",
   "execution_count": 202,
   "id": "d96f7c67",
   "metadata": {},
   "outputs": [],
   "source": [
    "logreg_train_crossval = cross_val_predict(LogReg,X_train,y_train,cv=5)\n",
    "#confusion_matrix(y_train,logreg_train_cross)"
   ]
  },
  {
   "cell_type": "code",
   "execution_count": 203,
   "id": "6cf80e60",
   "metadata": {},
   "outputs": [],
   "source": [
    "logreg_test_crossval = cross_val_predict(LogReg,X_test,y_test,cv=5)\n",
    "#confusion_matrix(y_test,logreg_test_crossval)"
   ]
  },
  {
   "cell_type": "markdown",
   "id": "67e765f4",
   "metadata": {},
   "source": [
    "### KNeighbors"
   ]
  },
  {
   "cell_type": "code",
   "execution_count": 204,
   "id": "a69c575d",
   "metadata": {},
   "outputs": [],
   "source": [
    "# KNeighbors\n",
    "# for k in [5,8,9,10,15,20]:\n",
    "#     knc = neighbors.KNeighborsClassifier(n_neighbors = k)\n",
    "#     knc.fit(X_train,y_train)\n",
    "#     knc_train = knc.predict(X_train)\n",
    "#     knc_test = knc.predict(X_test)\n",
    "#     knc_tst_score = knc.score(X_test,y_test)\n",
    "#     print(f'for {k} neighbours the test score is {knc_tst_score}')\n",
    "# #optimal k = 8"
   ]
  },
  {
   "cell_type": "code",
   "execution_count": 205,
   "id": "19c6e89c",
   "metadata": {},
   "outputs": [],
   "source": [
    "knc = neighbors.KNeighborsClassifier(n_neighbors = 8)\n",
    "knc.fit(X_train,y_train)\n",
    "knc_train = knc.predict(X_train)\n",
    "knc_test = knc.predict(X_test)\n",
    "knc_tst_score = knc.score(X_test,y_test)"
   ]
  },
  {
   "cell_type": "code",
   "execution_count": 206,
   "id": "0bc073ea",
   "metadata": {},
   "outputs": [
    {
     "name": "stdout",
     "output_type": "stream",
     "text": [
      "Classification Report: KNeighbors(K=8)\n",
      "Training Score\n",
      "              precision    recall  f1-score   support\n",
      "\n",
      "         0.0       0.72      0.94      0.82       437\n",
      "         1.0       0.81      0.43      0.56       272\n",
      "\n",
      "    accuracy                           0.74       709\n",
      "   macro avg       0.76      0.68      0.69       709\n",
      "weighted avg       0.76      0.74      0.72       709\n",
      "\n",
      "Testing Score\n",
      "              precision    recall  f1-score   support\n",
      "\n",
      "         0.0       0.73      0.96      0.83       111\n",
      "         1.0       0.88      0.42      0.57        67\n",
      "\n",
      "    accuracy                           0.76       178\n",
      "   macro avg       0.80      0.69      0.70       178\n",
      "weighted avg       0.79      0.76      0.73       178\n",
      "\n"
     ]
    }
   ],
   "source": [
    "print('Classification Report: KNeighbors(K=8)')\n",
    "print('Training Score')\n",
    "print(classification_report(y_train,knc_train))\n",
    "print('Testing Score')\n",
    "print(classification_report(y_test,knc_test))"
   ]
  },
  {
   "cell_type": "code",
   "execution_count": 207,
   "id": "40ce4703",
   "metadata": {},
   "outputs": [],
   "source": [
    "y_train_pred = cross_val_predict(knc,X_train,y_train,cv=5)\n",
    "#confusion_matrix(y_train,y_train_pred)"
   ]
  },
  {
   "cell_type": "code",
   "execution_count": 208,
   "id": "fd680084",
   "metadata": {},
   "outputs": [],
   "source": [
    "y_test_mat = cross_val_predict(knc,X_test,y_test,cv=5)\n",
    "#confusion_matrix(y_test,y_test_mat)"
   ]
  },
  {
   "cell_type": "markdown",
   "id": "52abe876",
   "metadata": {},
   "source": [
    "### Random Forest"
   ]
  },
  {
   "cell_type": "code",
   "execution_count": 262,
   "id": "e3f65f81",
   "metadata": {},
   "outputs": [],
   "source": [
    "\n",
    "rf = RandomForestClassifier(n_estimators = 400, criterion='gini') \n",
    "rf.fit(X_train,y_train) \n",
    "f_train = rf.predict(X_train)\n",
    "f_test = rf.predict(X_test)"
   ]
  },
  {
   "cell_type": "code",
   "execution_count": 258,
   "id": "f0d6576f",
   "metadata": {},
   "outputs": [
    {
     "name": "stdout",
     "output_type": "stream",
     "text": [
      "Classification Report: KNeighbors(K=8)\n",
      "Training Score\n",
      "              precision    recall  f1-score   support\n",
      "\n",
      "         0.0       1.00      1.00      1.00       437\n",
      "         1.0       1.00      1.00      1.00       272\n",
      "\n",
      "    accuracy                           1.00       709\n",
      "   macro avg       1.00      1.00      1.00       709\n",
      "weighted avg       1.00      1.00      1.00       709\n",
      "\n",
      "Testing Score\n",
      "              precision    recall  f1-score   support\n",
      "\n",
      "         0.0       0.79      0.86      0.83       111\n",
      "         1.0       0.74      0.63      0.68        67\n",
      "\n",
      "    accuracy                           0.78       178\n",
      "   macro avg       0.77      0.75      0.75       178\n",
      "weighted avg       0.77      0.78      0.77       178\n",
      "\n"
     ]
    }
   ],
   "source": [
    "print('Classification Report: Random Forest Tree')\n",
    "print('Training Score')\n",
    "print(classification_report(y_train,rf_train))\n",
    "print('Testing Score')\n",
    "print(classification_report(y_test,rf_test))"
   ]
  },
  {
   "cell_type": "markdown",
   "id": "327a3c5c",
   "metadata": {},
   "source": [
    "### Kaggle Submission"
   ]
  },
  {
   "cell_type": "code",
   "execution_count": 226,
   "id": "b92b962f",
   "metadata": {},
   "outputs": [
    {
     "data": {
      "text/html": [
       "<div>\n",
       "<style scoped>\n",
       "    .dataframe tbody tr th:only-of-type {\n",
       "        vertical-align: middle;\n",
       "    }\n",
       "\n",
       "    .dataframe tbody tr th {\n",
       "        vertical-align: top;\n",
       "    }\n",
       "\n",
       "    .dataframe thead th {\n",
       "        text-align: right;\n",
       "    }\n",
       "</style>\n",
       "<table border=\"1\" class=\"dataframe\">\n",
       "  <thead>\n",
       "    <tr style=\"text-align: right;\">\n",
       "      <th></th>\n",
       "      <th>Passenger_Id</th>\n",
       "    </tr>\n",
       "  </thead>\n",
       "  <tbody>\n",
       "    <tr>\n",
       "      <th>0</th>\n",
       "      <td>892</td>\n",
       "    </tr>\n",
       "    <tr>\n",
       "      <th>1</th>\n",
       "      <td>893</td>\n",
       "    </tr>\n",
       "    <tr>\n",
       "      <th>2</th>\n",
       "      <td>894</td>\n",
       "    </tr>\n",
       "    <tr>\n",
       "      <th>3</th>\n",
       "      <td>895</td>\n",
       "    </tr>\n",
       "    <tr>\n",
       "      <th>4</th>\n",
       "      <td>896</td>\n",
       "    </tr>\n",
       "    <tr>\n",
       "      <th>...</th>\n",
       "      <td>...</td>\n",
       "    </tr>\n",
       "    <tr>\n",
       "      <th>413</th>\n",
       "      <td>1305</td>\n",
       "    </tr>\n",
       "    <tr>\n",
       "      <th>414</th>\n",
       "      <td>1306</td>\n",
       "    </tr>\n",
       "    <tr>\n",
       "      <th>415</th>\n",
       "      <td>1307</td>\n",
       "    </tr>\n",
       "    <tr>\n",
       "      <th>416</th>\n",
       "      <td>1308</td>\n",
       "    </tr>\n",
       "    <tr>\n",
       "      <th>417</th>\n",
       "      <td>1309</td>\n",
       "    </tr>\n",
       "  </tbody>\n",
       "</table>\n",
       "<p>417 rows × 1 columns</p>\n",
       "</div>"
      ],
      "text/plain": [
       "     Passenger_Id\n",
       "0             892\n",
       "1             893\n",
       "2             894\n",
       "3             895\n",
       "4             896\n",
       "..            ...\n",
       "413          1305\n",
       "414          1306\n",
       "415          1307\n",
       "416          1308\n",
       "417          1309\n",
       "\n",
       "[417 rows x 1 columns]"
      ]
     },
     "execution_count": 226,
     "metadata": {},
     "output_type": "execute_result"
    }
   ],
   "source": [
    "submission = pd.DataFrame(list())\n",
    "submission.to_csv('submission.csv')\n",
    "submission['Passenger_Id'] = titanic_test.PassengerId\n",
    "submission.set_index('Passenger_Id')\n",
    "submission"
   ]
  },
  {
   "cell_type": "code",
   "execution_count": 245,
   "id": "28f6b519",
   "metadata": {
    "scrolled": true
   },
   "outputs": [],
   "source": [
    "kaggle_sub = knc.predict(titanic_test)"
   ]
  },
  {
   "cell_type": "code",
   "execution_count": 246,
   "id": "d73da98a",
   "metadata": {},
   "outputs": [],
   "source": [
    "submission = titanic_test.copy()"
   ]
  },
  {
   "cell_type": "code",
   "execution_count": 247,
   "id": "574ebb9b",
   "metadata": {},
   "outputs": [
    {
     "data": {
      "text/html": [
       "<div>\n",
       "<style scoped>\n",
       "    .dataframe tbody tr th:only-of-type {\n",
       "        vertical-align: middle;\n",
       "    }\n",
       "\n",
       "    .dataframe tbody tr th {\n",
       "        vertical-align: top;\n",
       "    }\n",
       "\n",
       "    .dataframe thead th {\n",
       "        text-align: right;\n",
       "    }\n",
       "</style>\n",
       "<table border=\"1\" class=\"dataframe\">\n",
       "  <thead>\n",
       "    <tr style=\"text-align: right;\">\n",
       "      <th></th>\n",
       "    </tr>\n",
       "    <tr>\n",
       "      <th>PassengerId</th>\n",
       "    </tr>\n",
       "  </thead>\n",
       "  <tbody>\n",
       "    <tr>\n",
       "      <th>892</th>\n",
       "    </tr>\n",
       "    <tr>\n",
       "      <th>893</th>\n",
       "    </tr>\n",
       "    <tr>\n",
       "      <th>894</th>\n",
       "    </tr>\n",
       "    <tr>\n",
       "      <th>895</th>\n",
       "    </tr>\n",
       "    <tr>\n",
       "      <th>896</th>\n",
       "    </tr>\n",
       "    <tr>\n",
       "      <th>...</th>\n",
       "    </tr>\n",
       "    <tr>\n",
       "      <th>1305</th>\n",
       "    </tr>\n",
       "    <tr>\n",
       "      <th>1306</th>\n",
       "    </tr>\n",
       "    <tr>\n",
       "      <th>1307</th>\n",
       "    </tr>\n",
       "    <tr>\n",
       "      <th>1308</th>\n",
       "    </tr>\n",
       "    <tr>\n",
       "      <th>1309</th>\n",
       "    </tr>\n",
       "  </tbody>\n",
       "</table>\n",
       "<p>417 rows × 0 columns</p>\n",
       "</div>"
      ],
      "text/plain": [
       "Empty DataFrame\n",
       "Columns: []\n",
       "Index: [892, 893, 894, 895, 896, 897, 898, 899, 900, 901, 902, 903, 904, 905, 906, 907, 908, 909, 910, 911, 912, 913, 914, 915, 916, 917, 918, 919, 920, 921, 922, 923, 924, 925, 926, 927, 928, 929, 930, 931, 932, 933, 934, 935, 936, 937, 938, 939, 940, 941, 942, 943, 944, 945, 946, 947, 948, 949, 950, 951, 952, 953, 954, 955, 956, 957, 958, 959, 960, 961, 962, 963, 964, 965, 966, 967, 968, 969, 970, 971, 972, 973, 974, 975, 976, 977, 978, 979, 980, 981, 982, 983, 984, 985, 986, 987, 988, 989, 990, 991, ...]\n",
       "\n",
       "[417 rows x 0 columns]"
      ]
     },
     "execution_count": 247,
     "metadata": {},
     "output_type": "execute_result"
    }
   ],
   "source": [
    "\n",
    "submission = submission.drop(['Age','SibSp','Parch','Fare','male_gender','C','Q','S'],axis=1)\n",
    "submission.set_index('PassengerId')\n"
   ]
  },
  {
   "cell_type": "code",
   "execution_count": 248,
   "id": "ced34d1e",
   "metadata": {},
   "outputs": [
    {
     "data": {
      "text/html": [
       "<div>\n",
       "<style scoped>\n",
       "    .dataframe tbody tr th:only-of-type {\n",
       "        vertical-align: middle;\n",
       "    }\n",
       "\n",
       "    .dataframe tbody tr th {\n",
       "        vertical-align: top;\n",
       "    }\n",
       "\n",
       "    .dataframe thead th {\n",
       "        text-align: right;\n",
       "    }\n",
       "</style>\n",
       "<table border=\"1\" class=\"dataframe\">\n",
       "  <thead>\n",
       "    <tr style=\"text-align: right;\">\n",
       "      <th></th>\n",
       "      <th>PassengerId</th>\n",
       "      <th>prediction</th>\n",
       "    </tr>\n",
       "  </thead>\n",
       "  <tbody>\n",
       "    <tr>\n",
       "      <th>0</th>\n",
       "      <td>892</td>\n",
       "      <td>1.0</td>\n",
       "    </tr>\n",
       "    <tr>\n",
       "      <th>1</th>\n",
       "      <td>893</td>\n",
       "      <td>1.0</td>\n",
       "    </tr>\n",
       "    <tr>\n",
       "      <th>2</th>\n",
       "      <td>894</td>\n",
       "      <td>1.0</td>\n",
       "    </tr>\n",
       "    <tr>\n",
       "      <th>3</th>\n",
       "      <td>895</td>\n",
       "      <td>0.0</td>\n",
       "    </tr>\n",
       "    <tr>\n",
       "      <th>4</th>\n",
       "      <td>896</td>\n",
       "      <td>0.0</td>\n",
       "    </tr>\n",
       "    <tr>\n",
       "      <th>...</th>\n",
       "      <td>...</td>\n",
       "      <td>...</td>\n",
       "    </tr>\n",
       "    <tr>\n",
       "      <th>413</th>\n",
       "      <td>1305</td>\n",
       "      <td>0.0</td>\n",
       "    </tr>\n",
       "    <tr>\n",
       "      <th>414</th>\n",
       "      <td>1306</td>\n",
       "      <td>1.0</td>\n",
       "    </tr>\n",
       "    <tr>\n",
       "      <th>415</th>\n",
       "      <td>1307</td>\n",
       "      <td>0.0</td>\n",
       "    </tr>\n",
       "    <tr>\n",
       "      <th>416</th>\n",
       "      <td>1308</td>\n",
       "      <td>0.0</td>\n",
       "    </tr>\n",
       "    <tr>\n",
       "      <th>417</th>\n",
       "      <td>1309</td>\n",
       "      <td>0.0</td>\n",
       "    </tr>\n",
       "  </tbody>\n",
       "</table>\n",
       "<p>417 rows × 2 columns</p>\n",
       "</div>"
      ],
      "text/plain": [
       "     PassengerId  prediction\n",
       "0            892         1.0\n",
       "1            893         1.0\n",
       "2            894         1.0\n",
       "3            895         0.0\n",
       "4            896         0.0\n",
       "..           ...         ...\n",
       "413         1305         0.0\n",
       "414         1306         1.0\n",
       "415         1307         0.0\n",
       "416         1308         0.0\n",
       "417         1309         0.0\n",
       "\n",
       "[417 rows x 2 columns]"
      ]
     },
     "execution_count": 248,
     "metadata": {},
     "output_type": "execute_result"
    }
   ],
   "source": [
    "submission['prediction'] = kaggle_sub\n",
    "submission"
   ]
  },
  {
   "cell_type": "code",
   "execution_count": 237,
   "id": "702e38ba",
   "metadata": {},
   "outputs": [],
   "source": [
    "\n",
    "\n",
    "\n",
    "\n"
   ]
  },
  {
   "cell_type": "code",
   "execution_count": 234,
   "id": "85311055",
   "metadata": {},
   "outputs": [
    {
     "data": {
      "text/html": [
       "<div>\n",
       "<style scoped>\n",
       "    .dataframe tbody tr th:only-of-type {\n",
       "        vertical-align: middle;\n",
       "    }\n",
       "\n",
       "    .dataframe tbody tr th {\n",
       "        vertical-align: top;\n",
       "    }\n",
       "\n",
       "    .dataframe thead th {\n",
       "        text-align: right;\n",
       "    }\n",
       "</style>\n",
       "<table border=\"1\" class=\"dataframe\">\n",
       "  <thead>\n",
       "    <tr style=\"text-align: right;\">\n",
       "      <th></th>\n",
       "      <th>Age</th>\n",
       "      <th>SibSp</th>\n",
       "      <th>Parch</th>\n",
       "      <th>Fare</th>\n",
       "      <th>male_gender</th>\n",
       "      <th>C</th>\n",
       "      <th>Q</th>\n",
       "      <th>S</th>\n",
       "      <th>prediction</th>\n",
       "    </tr>\n",
       "    <tr>\n",
       "      <th>PassengerId</th>\n",
       "      <th></th>\n",
       "      <th></th>\n",
       "      <th></th>\n",
       "      <th></th>\n",
       "      <th></th>\n",
       "      <th></th>\n",
       "      <th></th>\n",
       "      <th></th>\n",
       "      <th></th>\n",
       "    </tr>\n",
       "  </thead>\n",
       "  <tbody>\n",
       "    <tr>\n",
       "      <th>892</th>\n",
       "      <td>34.5</td>\n",
       "      <td>0</td>\n",
       "      <td>0</td>\n",
       "      <td>7.8292</td>\n",
       "      <td>1</td>\n",
       "      <td>0.0</td>\n",
       "      <td>1.0</td>\n",
       "      <td>0.0</td>\n",
       "      <td>1.0</td>\n",
       "    </tr>\n",
       "    <tr>\n",
       "      <th>893</th>\n",
       "      <td>47.0</td>\n",
       "      <td>1</td>\n",
       "      <td>0</td>\n",
       "      <td>7.0000</td>\n",
       "      <td>0</td>\n",
       "      <td>0.0</td>\n",
       "      <td>0.0</td>\n",
       "      <td>1.0</td>\n",
       "      <td>1.0</td>\n",
       "    </tr>\n",
       "    <tr>\n",
       "      <th>894</th>\n",
       "      <td>62.0</td>\n",
       "      <td>0</td>\n",
       "      <td>0</td>\n",
       "      <td>9.6875</td>\n",
       "      <td>1</td>\n",
       "      <td>0.0</td>\n",
       "      <td>1.0</td>\n",
       "      <td>0.0</td>\n",
       "      <td>1.0</td>\n",
       "    </tr>\n",
       "    <tr>\n",
       "      <th>895</th>\n",
       "      <td>27.0</td>\n",
       "      <td>0</td>\n",
       "      <td>0</td>\n",
       "      <td>8.6625</td>\n",
       "      <td>1</td>\n",
       "      <td>0.0</td>\n",
       "      <td>0.0</td>\n",
       "      <td>1.0</td>\n",
       "      <td>0.0</td>\n",
       "    </tr>\n",
       "    <tr>\n",
       "      <th>896</th>\n",
       "      <td>22.0</td>\n",
       "      <td>1</td>\n",
       "      <td>1</td>\n",
       "      <td>12.2875</td>\n",
       "      <td>0</td>\n",
       "      <td>0.0</td>\n",
       "      <td>0.0</td>\n",
       "      <td>1.0</td>\n",
       "      <td>0.0</td>\n",
       "    </tr>\n",
       "    <tr>\n",
       "      <th>...</th>\n",
       "      <td>...</td>\n",
       "      <td>...</td>\n",
       "      <td>...</td>\n",
       "      <td>...</td>\n",
       "      <td>...</td>\n",
       "      <td>...</td>\n",
       "      <td>...</td>\n",
       "      <td>...</td>\n",
       "      <td>...</td>\n",
       "    </tr>\n",
       "    <tr>\n",
       "      <th>1305</th>\n",
       "      <td>31.0</td>\n",
       "      <td>0</td>\n",
       "      <td>0</td>\n",
       "      <td>8.0500</td>\n",
       "      <td>1</td>\n",
       "      <td>0.0</td>\n",
       "      <td>0.0</td>\n",
       "      <td>1.0</td>\n",
       "      <td>0.0</td>\n",
       "    </tr>\n",
       "    <tr>\n",
       "      <th>1306</th>\n",
       "      <td>39.0</td>\n",
       "      <td>0</td>\n",
       "      <td>0</td>\n",
       "      <td>108.9000</td>\n",
       "      <td>0</td>\n",
       "      <td>1.0</td>\n",
       "      <td>0.0</td>\n",
       "      <td>0.0</td>\n",
       "      <td>1.0</td>\n",
       "    </tr>\n",
       "    <tr>\n",
       "      <th>1307</th>\n",
       "      <td>38.5</td>\n",
       "      <td>0</td>\n",
       "      <td>0</td>\n",
       "      <td>7.2500</td>\n",
       "      <td>1</td>\n",
       "      <td>0.0</td>\n",
       "      <td>0.0</td>\n",
       "      <td>1.0</td>\n",
       "      <td>0.0</td>\n",
       "    </tr>\n",
       "    <tr>\n",
       "      <th>1308</th>\n",
       "      <td>31.0</td>\n",
       "      <td>0</td>\n",
       "      <td>0</td>\n",
       "      <td>8.0500</td>\n",
       "      <td>1</td>\n",
       "      <td>0.0</td>\n",
       "      <td>0.0</td>\n",
       "      <td>1.0</td>\n",
       "      <td>0.0</td>\n",
       "    </tr>\n",
       "    <tr>\n",
       "      <th>1309</th>\n",
       "      <td>30.0</td>\n",
       "      <td>1</td>\n",
       "      <td>1</td>\n",
       "      <td>22.3583</td>\n",
       "      <td>1</td>\n",
       "      <td>1.0</td>\n",
       "      <td>0.0</td>\n",
       "      <td>0.0</td>\n",
       "      <td>0.0</td>\n",
       "    </tr>\n",
       "  </tbody>\n",
       "</table>\n",
       "<p>417 rows × 9 columns</p>\n",
       "</div>"
      ],
      "text/plain": [
       "              Age  SibSp  Parch      Fare  male_gender    C    Q    S  \\\n",
       "PassengerId                                                             \n",
       "892          34.5      0      0    7.8292            1  0.0  1.0  0.0   \n",
       "893          47.0      1      0    7.0000            0  0.0  0.0  1.0   \n",
       "894          62.0      0      0    9.6875            1  0.0  1.0  0.0   \n",
       "895          27.0      0      0    8.6625            1  0.0  0.0  1.0   \n",
       "896          22.0      1      1   12.2875            0  0.0  0.0  1.0   \n",
       "...           ...    ...    ...       ...          ...  ...  ...  ...   \n",
       "1305         31.0      0      0    8.0500            1  0.0  0.0  1.0   \n",
       "1306         39.0      0      0  108.9000            0  1.0  0.0  0.0   \n",
       "1307         38.5      0      0    7.2500            1  0.0  0.0  1.0   \n",
       "1308         31.0      0      0    8.0500            1  0.0  0.0  1.0   \n",
       "1309         30.0      1      1   22.3583            1  1.0  0.0  0.0   \n",
       "\n",
       "             prediction  \n",
       "PassengerId              \n",
       "892                 1.0  \n",
       "893                 1.0  \n",
       "894                 1.0  \n",
       "895                 0.0  \n",
       "896                 0.0  \n",
       "...                 ...  \n",
       "1305                0.0  \n",
       "1306                1.0  \n",
       "1307                0.0  \n",
       "1308                0.0  \n",
       "1309                0.0  \n",
       "\n",
       "[417 rows x 9 columns]"
      ]
     },
     "execution_count": 234,
     "metadata": {},
     "output_type": "execute_result"
    }
   ],
   "source": []
  },
  {
   "cell_type": "code",
   "execution_count": 251,
   "id": "240490fb",
   "metadata": {},
   "outputs": [
    {
     "data": {
      "text/plain": [
       "0.7921348314606742"
      ]
     },
     "execution_count": 251,
     "metadata": {},
     "output_type": "execute_result"
    }
   ],
   "source": []
  },
  {
   "cell_type": "code",
   "execution_count": null,
   "id": "05867d50",
   "metadata": {},
   "outputs": [],
   "source": []
  }
 ],
 "metadata": {
  "kernelspec": {
   "display_name": "Python 3",
   "language": "python",
   "name": "python3"
  },
  "language_info": {
   "codemirror_mode": {
    "name": "ipython",
    "version": 3
   },
   "file_extension": ".py",
   "mimetype": "text/x-python",
   "name": "python",
   "nbconvert_exporter": "python",
   "pygments_lexer": "ipython3",
   "version": "3.8.8"
  }
 },
 "nbformat": 4,
 "nbformat_minor": 5
}
